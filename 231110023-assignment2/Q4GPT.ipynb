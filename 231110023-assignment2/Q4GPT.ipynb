{
 "cells": [
  {
   "cell_type": "code",
   "execution_count": 48,
   "metadata": {},
   "outputs": [],
   "source": [
    "def read_file(file_path):\n",
    "    with open(file_path, 'r', encoding='utf-8') as file:\n",
    "        return [line.strip().split() for line in file.readlines()]\n",
    "    \n",
    "\n",
    "def extract_tags_from_sentences(sentences):\n",
    "    tags = []\n",
    "    cnt = 0\n",
    "    for sentence in sentences:\n",
    "        cnt += 1\n",
    "        for word_tag in sentence:\n",
    "            # Check if the word_tag contains the expected format\n",
    "            \n",
    "            if ':' in word_tag:\n",
    "                # Split each word_tag on ':' and get the tag\n",
    "                tag = word_tag.split(':')[1]\n",
    "                tags.append(tag)\n",
    "            else:\n",
    "                print(cnt,word_tag)\n",
    "                \n",
    "    return tags\n"
   ]
  },
  {
   "cell_type": "code",
   "execution_count": 49,
   "metadata": {},
   "outputs": [],
   "source": [
    "tags = ['O', 'B-PER', 'I-PER', 'B-LOC', 'I-LOC', 'B-ORG', 'I-ORG', 'B-MISC', 'I-MISC']\n",
    "ground_truth_file = \"ground_truth.txt\"\n",
    "generated_truth_file = \"ChatGpt.txt\"\n",
    "\n",
    "ground_truth = read_file(ground_truth_file)\n",
    "generated_truth = read_file(generated_truth_file)\n",
    "# print(ground_truth)\n",
    "\n",
    "ground_truth_tags = extract_tags_from_sentences(ground_truth)\n",
    "generated_truth_tags = extract_tags_from_sentences(generated_truth)\n"
   ]
  },
  {
   "cell_type": "code",
   "execution_count": 50,
   "metadata": {},
   "outputs": [
    {
     "name": "stdout",
     "output_type": "stream",
     "text": [
      "Tag: O\n",
      "Precision: 0.9196581196581196\n",
      "Recall: 0.992619926199262\n",
      "F1: 0.9547471162377994\n",
      "\n",
      "Tag: B-PER\n",
      "Precision: 0.6\n",
      "Recall: 0.375\n",
      "F1: 0.4615384615384615\n",
      "\n",
      "Tag: I-PER\n",
      "Precision: 0.5\n",
      "Recall: 1.0\n",
      "F1: 0.6666666666666666\n",
      "\n",
      "Tag: B-LOC\n",
      "Precision: 0\n",
      "Recall: 0.0\n",
      "F1: 0\n",
      "\n",
      "Tag: I-LOC\n",
      "Precision: 0\n",
      "Recall: 0\n",
      "F1: 0\n",
      "\n",
      "Tag: B-ORG\n",
      "Precision: 0\n",
      "Recall: 0.0\n",
      "F1: 0\n",
      "\n",
      "Tag: I-ORG\n",
      "Precision: 0\n",
      "Recall: 0.0\n",
      "F1: 0\n",
      "\n",
      "Tag: B-MISC\n",
      "Precision: 0.5\n",
      "Recall: 0.06666666666666667\n",
      "F1: 0.11764705882352941\n",
      "\n",
      "Tag: I-MISC\n",
      "Precision: 0.0\n",
      "Recall: 0.0\n",
      "F1: 0\n",
      "\n"
     ]
    }
   ],
   "source": [
    "def calculate_metrics_per_tag(ground_truth_tags, generated_tags, tag):\n",
    "    TP = FP = FN = 0\n",
    "    \n",
    "    for i in range(len(ground_truth_tags)):\n",
    "        if ground_truth_tags[i] == tag:\n",
    "            if generated_tags[i] == tag:\n",
    "                TP += 1\n",
    "            else:\n",
    "                FN += 1\n",
    "        elif generated_tags[i] == tag:\n",
    "            FP += 1\n",
    "    \n",
    "    precision = TP / (TP + FP) if (TP + FP) > 0 else 0\n",
    "    recall = TP / (TP + FN) if (TP + FN) > 0 else 0\n",
    "    f1 = 2 * precision * recall / (precision + recall) if (precision + recall) > 0 else 0\n",
    "    \n",
    "    return precision, recall, f1\n",
    "# Example usage:\n",
    "\n",
    "for tag in tags:\n",
    "    precision, recall, f1 = calculate_metrics_per_tag(ground_truth_tags, generated_truth_tags, tag)\n",
    "    print(f\"Tag: {tag}\")\n",
    "    print(f\"Precision: {precision}\")\n",
    "    print(f\"Recall: {recall}\")\n",
    "    print(f\"F1: {f1}\")\n",
    "    print()"
   ]
  },
  {
   "cell_type": "code",
   "execution_count": null,
   "metadata": {},
   "outputs": [],
   "source": []
  }
 ],
 "metadata": {
  "kernelspec": {
   "display_name": "Python 3",
   "language": "python",
   "name": "python3"
  },
  "language_info": {
   "codemirror_mode": {
    "name": "ipython",
    "version": 3
   },
   "file_extension": ".py",
   "mimetype": "text/x-python",
   "name": "python",
   "nbconvert_exporter": "python",
   "pygments_lexer": "ipython3",
   "version": "3.11.4"
  }
 },
 "nbformat": 4,
 "nbformat_minor": 2
}
